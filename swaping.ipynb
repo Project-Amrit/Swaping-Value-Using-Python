{
 "cells": [
  {
   "cell_type": "markdown",
   "id": "26ca2bbe",
   "metadata": {},
   "source": [
    "# swap values "
   ]
  },
  {
   "cell_type": "code",
   "execution_count": 5,
   "id": "5780da5d",
   "metadata": {},
   "outputs": [
    {
     "name": "stdout",
     "output_type": "stream",
     "text": [
      "enter the value 1: 1\n",
      "enter the value 2: 2\n",
      "After swapping the value1: 2\n",
      "After swapping the value2: 1\n"
     ]
    }
   ],
   "source": [
    "# swaping between 2 values\n",
    "\n",
    "a = int(input(\"enter the value 1: \"))\n",
    "b = int(input(\"enter the value 2: \"))\n",
    "\n",
    "a,b=b,a\n",
    "\n",
    "print(\"After swapping the value1:\", a)\n",
    "print(\"After swapping the value2:\", b)"
   ]
  },
  {
   "cell_type": "code",
   "execution_count": 5,
   "id": "9da8a61c",
   "metadata": {},
   "outputs": [
    {
     "name": "stdout",
     "output_type": "stream",
     "text": [
      "enter the value 1: 1\n",
      "enter the value 2: 2\n",
      "enter the value 3: 3\n",
      "After swapping the value1: 2\n",
      "After swapping the value2: 3\n",
      "After swapping the value3: 1\n"
     ]
    }
   ],
   "source": [
    "# swaping between 3 values\n",
    "\n",
    "a = int(input(\"enter the value 1: \"))\n",
    "b = int(input(\"enter the value 2: \"))\n",
    "c = int(input(\"enter the value 3: \"))\n",
    "\n",
    "a,b,c = b,c,a\n",
    "\n",
    "print(\"After swapping the value1:\", a)\n",
    "print(\"After swapping the value2:\", b)\n",
    "print(\"After swapping the value3:\", c)"
   ]
  },
  {
   "cell_type": "code",
   "execution_count": 4,
   "id": "96583b2b",
   "metadata": {},
   "outputs": [
    {
     "name": "stdout",
     "output_type": "stream",
     "text": [
      "Enter the number of values: 1\n",
      "Cannot swap. Please enter an even number of values.\n"
     ]
    }
   ],
   "source": [
    "def swap_values(*args):\n",
    "    # Convert the arguments to a list to make it mutable\n",
    "    values = list(args)\n",
    "\n",
    "    # Swap values pairwise\n",
    "    for i in range(0, len(values) - 1,  2):\n",
    "        values[i], values[i + 1] = values[i + 1], values[i]\n",
    "        \n",
    "    return tuple(values)\n",
    "\n",
    "# Get user input for values\n",
    "\n",
    "num_values = int(input(\"Enter the number of values: \"))\n",
    "user_values = []\n",
    "\n",
    "# Swap values and display\n",
    "\n",
    "if num_values % 2 == 0:\n",
    "    for i in range(num_values):\n",
    "        value = input(f\"Enter value {i + 1}: \")\n",
    "        user_values.append(value)\n",
    "\n",
    "   # Display original values\n",
    "\n",
    "    print(\"Original values:\", tuple(user_values))\n",
    "    swapped_values = swap_values(*user_values)\n",
    "    print(\"After swapping:\", swapped_values)\n",
    "    \n",
    "else:\n",
    "    print(\"Cannot swap. Please enter an even number of values.\")\n"
   ]
  },
  {
   "cell_type": "code",
   "execution_count": null,
   "id": "ce2f1340",
   "metadata": {},
   "outputs": [],
   "source": []
  }
 ],
 "metadata": {
  "kernelspec": {
   "display_name": "Python 3 (ipykernel)",
   "language": "python",
   "name": "python3"
  },
  "language_info": {
   "codemirror_mode": {
    "name": "ipython",
    "version": 3
   },
   "file_extension": ".py",
   "mimetype": "text/x-python",
   "name": "python",
   "nbconvert_exporter": "python",
   "pygments_lexer": "ipython3",
   "version": "3.11.5"
  }
 },
 "nbformat": 4,
 "nbformat_minor": 5
}
